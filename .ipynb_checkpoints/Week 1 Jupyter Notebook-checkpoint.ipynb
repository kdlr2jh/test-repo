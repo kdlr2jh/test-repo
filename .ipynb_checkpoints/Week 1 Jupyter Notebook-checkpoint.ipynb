{
 "cells": [
  {
   "cell_type": "code",
   "execution_count": 2,
   "id": "a921ea3b",
   "metadata": {},
   "outputs": [
    {
     "name": "stdout",
     "output_type": "stream",
     "text": [
      "Hello World\n"
     ]
    }
   ],
   "source": [
    "print(\"Hello World\")"
   ]
  },
  {
   "cell_type": "markdown",
   "id": "0620bd59",
   "metadata": {},
   "source": [
    "### Week 1 Assignment\n",
    "by: Katherine DeLaRosa"
   ]
  },
  {
   "cell_type": "code",
   "execution_count": 1,
   "id": "1e648978",
   "metadata": {},
   "outputs": [
    {
     "data": {
      "text/plain": [
       "18"
      ]
     },
     "execution_count": 1,
     "metadata": {},
     "output_type": "execute_result"
    }
   ],
   "source": [
    "s = 3\n",
    "t = 6\n",
    "s*t"
   ]
  },
  {
   "cell_type": "code",
   "execution_count": 2,
   "id": "5269eb47",
   "metadata": {},
   "outputs": [],
   "source": [
    "import numpy\n",
    "import pandas\n",
    "%matplotlib inline\n",
    "import matplotlib.pylab as plt"
   ]
  },
  {
   "cell_type": "code",
   "execution_count": null,
   "id": "1a69a8ad",
   "metadata": {},
   "outputs": [],
   "source": [
    "plt.scatter([])"
   ]
  },
  {
   "cell_type": "code",
   "execution_count": 5,
   "id": "8ce4778a",
   "metadata": {},
   "outputs": [],
   "source": [
    "%matplotlib inline\n",
    "\n",
    "import traceback\n",
    "import matplotlib.pyplot as plt\n",
    "\n",
    "import numpy as np"
   ]
  },
  {
   "cell_type": "code",
   "execution_count": 6,
   "id": "97f3c835",
   "metadata": {},
   "outputs": [
    {
     "name": "stdout",
     "output_type": "stream",
     "text": [
      "CPU times: user 13 ms, sys: 455 µs, total: 13.4 ms\n",
      "Wall time: 13.1 ms\n"
     ]
    }
   ],
   "source": [
    "%%time\n",
    "\n",
    "total = 0\n",
    "for i in range(100000):\n",
    "    total += i"
   ]
  },
  {
   "cell_type": "code",
   "execution_count": null,
   "id": "eeefed6c",
   "metadata": {},
   "outputs": [],
   "source": []
  }
 ],
 "metadata": {
  "kernelspec": {
   "display_name": "Python 3 (ipykernel)",
   "language": "python",
   "name": "python3"
  },
  "language_info": {
   "codemirror_mode": {
    "name": "ipython",
    "version": 3
   },
   "file_extension": ".py",
   "mimetype": "text/x-python",
   "name": "python",
   "nbconvert_exporter": "python",
   "pygments_lexer": "ipython3",
   "version": "3.9.13"
  }
 },
 "nbformat": 4,
 "nbformat_minor": 5
}
